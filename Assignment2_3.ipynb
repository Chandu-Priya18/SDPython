{
  "nbformat": 4,
  "nbformat_minor": 0,
  "metadata": {
    "colab": {
      "name": "Assignment2.3",
      "provenance": [],
      "collapsed_sections": []
    },
    "kernelspec": {
      "name": "python3",
      "display_name": "Python 3"
    }
  },
  "cells": [
    {
      "cell_type": "code",
      "metadata": {
        "id": "QONf3WmhqFFt",
        "colab_type": "code",
        "colab": {
          "base_uri": "https://localhost:8080/",
          "height": 51
        },
        "outputId": "bc6a0524-f081-43a1-95b9-2f82344f8ed4"
      },
      "source": [
        "#python program to find Area of a circle using math function\n",
        "import math\n",
        "def area_of_circle(r):\n",
        "   a=r**2*math.pi\n",
        "   return a\n",
        "\n",
        "r = float(input(\"Enter the radius of the circle:\"))\n",
        "print(\"Area of a circle is\",area_of_circle(r))   \n"
      ],
      "execution_count": 1,
      "outputs": [
        {
          "output_type": "stream",
          "text": [
            "Enter the radius of the circle:4\n",
            "Area of a circle is 50.26548245743669\n"
          ],
          "name": "stdout"
        }
      ]
    },
    {
      "cell_type": "code",
      "metadata": {
        "id": "_sZ8zTX9s3ms",
        "colab_type": "code",
        "colab": {
          "base_uri": "https://localhost:8080/",
          "height": 68
        },
        "outputId": "a3c60ae9-2952-43cb-f647-869bed61154c"
      },
      "source": [
        "#Python's program to calculate the Area of Polygon.\n",
        " \n",
        "from math import tan,pi\n",
        " \n",
        "#Define the constant\n",
        "GRAVITY = 9.8  \n",
        " \n",
        "#Read the input from user\n",
        "length  = float(input(\"Enter the length of each side of Polygon (in meters): \"))\n",
        "number  = int(input(\"Enter the number of sides: \"))\n",
        " \n",
        "#Calculate the area of Polygon\n",
        "area = (number * length ** 2)/(4 * tan(pi/number))\n",
        " \n",
        "#Display the result\n",
        "print(\"The area of Polygon is %.2f \" % area)\n"
      ],
      "execution_count": 5,
      "outputs": [
        {
          "output_type": "stream",
          "text": [
            "Enter the length of each side of Polygon (in meters): 2\n",
            "Enter the number of sides: 5\n",
            "The area of Polygon is 6.88 \n"
          ],
          "name": "stdout"
        }
      ]
    },
    {
      "cell_type": "code",
      "metadata": {
        "id": "yVAeTeIFwZ3j",
        "colab_type": "code",
        "colab": {
          "base_uri": "https://localhost:8080/",
          "height": 68
        },
        "outputId": "5cbef8e5-1a6f-4ad3-c904-73dba4181cf7"
      },
      "source": [
        "#python program to find area of a segement of circle using math function\n",
        "import math\n",
        "diamStr=input(\"Enter the length of the diameter:\")\n",
        "d=int(diamStr)\n",
        "chordStr = input(\"Enter the chord length:\")\n",
        "chord = int(chordStr)\n",
        "radius = (d/2)\n",
        "theta = math.acos((radius**2 + radius**2 - chord**2)/(2*radius**2))\n",
        "area = 1/2 * (theta - math.sin(theta))* radius**2\n",
        "print(\"The area of segment of circle is\",area)"
      ],
      "execution_count": 9,
      "outputs": [
        {
          "output_type": "stream",
          "text": [
            "Enter the length of the diameter:20\n",
            "Enter the chord length:10\n",
            "The area of segment of circle is 9.058607370607957\n"
          ],
          "name": "stdout"
        }
      ]
    },
    {
      "cell_type": "code",
      "metadata": {
        "id": "PlhzXQHAxvBj",
        "colab_type": "code",
        "colab": {
          "base_uri": "https://localhost:8080/",
          "height": 51
        },
        "outputId": "ae2db277-184d-4b8e-a152-0c474e0f293d"
      },
      "source": [
        "#python program to shuffle the given list\n",
        "import random\n",
        "test_list = [100,1,2,3,30,40,\"hai\",\"hello\"]\n",
        "print(\"The original list is:\"+ str(test_list))\n",
        "random.shuffle(test_list)\n",
        "print(\"The shuffled list is:\"+ str(test_list))"
      ],
      "execution_count": 10,
      "outputs": [
        {
          "output_type": "stream",
          "text": [
            "The original list is:[100, 1, 2, 3, 30, 40, 'hai', 'hello']\n",
            "The shuffled list is:[3, 1, 'hai', 100, 2, 'hello', 30, 40]\n"
          ],
          "name": "stdout"
        }
      ]
    },
    {
      "cell_type": "code",
      "metadata": {
        "id": "o_hKFRgvyZJ1",
        "colab_type": "code",
        "colab": {
          "base_uri": "https://localhost:8080/",
          "height": 1000
        },
        "outputId": "1a5bcde0-ddb1-4456-bfee-576d4688b6dc"
      },
      "source": [
        "import random\n",
        "for i in range(1,10000,50):\n",
        "    print(i)\n",
        "print(\"A random number from range 1 and 10000 is:\",end=\"\")\n",
        "print(random.randrange(1,10000,50))    "
      ],
      "execution_count": 11,
      "outputs": [
        {
          "output_type": "stream",
          "text": [
            "1\n",
            "51\n",
            "101\n",
            "151\n",
            "201\n",
            "251\n",
            "301\n",
            "351\n",
            "401\n",
            "451\n",
            "501\n",
            "551\n",
            "601\n",
            "651\n",
            "701\n",
            "751\n",
            "801\n",
            "851\n",
            "901\n",
            "951\n",
            "1001\n",
            "1051\n",
            "1101\n",
            "1151\n",
            "1201\n",
            "1251\n",
            "1301\n",
            "1351\n",
            "1401\n",
            "1451\n",
            "1501\n",
            "1551\n",
            "1601\n",
            "1651\n",
            "1701\n",
            "1751\n",
            "1801\n",
            "1851\n",
            "1901\n",
            "1951\n",
            "2001\n",
            "2051\n",
            "2101\n",
            "2151\n",
            "2201\n",
            "2251\n",
            "2301\n",
            "2351\n",
            "2401\n",
            "2451\n",
            "2501\n",
            "2551\n",
            "2601\n",
            "2651\n",
            "2701\n",
            "2751\n",
            "2801\n",
            "2851\n",
            "2901\n",
            "2951\n",
            "3001\n",
            "3051\n",
            "3101\n",
            "3151\n",
            "3201\n",
            "3251\n",
            "3301\n",
            "3351\n",
            "3401\n",
            "3451\n",
            "3501\n",
            "3551\n",
            "3601\n",
            "3651\n",
            "3701\n",
            "3751\n",
            "3801\n",
            "3851\n",
            "3901\n",
            "3951\n",
            "4001\n",
            "4051\n",
            "4101\n",
            "4151\n",
            "4201\n",
            "4251\n",
            "4301\n",
            "4351\n",
            "4401\n",
            "4451\n",
            "4501\n",
            "4551\n",
            "4601\n",
            "4651\n",
            "4701\n",
            "4751\n",
            "4801\n",
            "4851\n",
            "4901\n",
            "4951\n",
            "5001\n",
            "5051\n",
            "5101\n",
            "5151\n",
            "5201\n",
            "5251\n",
            "5301\n",
            "5351\n",
            "5401\n",
            "5451\n",
            "5501\n",
            "5551\n",
            "5601\n",
            "5651\n",
            "5701\n",
            "5751\n",
            "5801\n",
            "5851\n",
            "5901\n",
            "5951\n",
            "6001\n",
            "6051\n",
            "6101\n",
            "6151\n",
            "6201\n",
            "6251\n",
            "6301\n",
            "6351\n",
            "6401\n",
            "6451\n",
            "6501\n",
            "6551\n",
            "6601\n",
            "6651\n",
            "6701\n",
            "6751\n",
            "6801\n",
            "6851\n",
            "6901\n",
            "6951\n",
            "7001\n",
            "7051\n",
            "7101\n",
            "7151\n",
            "7201\n",
            "7251\n",
            "7301\n",
            "7351\n",
            "7401\n",
            "7451\n",
            "7501\n",
            "7551\n",
            "7601\n",
            "7651\n",
            "7701\n",
            "7751\n",
            "7801\n",
            "7851\n",
            "7901\n",
            "7951\n",
            "8001\n",
            "8051\n",
            "8101\n",
            "8151\n",
            "8201\n",
            "8251\n",
            "8301\n",
            "8351\n",
            "8401\n",
            "8451\n",
            "8501\n",
            "8551\n",
            "8601\n",
            "8651\n",
            "8701\n",
            "8751\n",
            "8801\n",
            "8851\n",
            "8901\n",
            "8951\n",
            "9001\n",
            "9051\n",
            "9101\n",
            "9151\n",
            "9201\n",
            "9251\n",
            "9301\n",
            "9351\n",
            "9401\n",
            "9451\n",
            "9501\n",
            "9551\n",
            "9601\n",
            "9651\n",
            "9701\n",
            "9751\n",
            "9801\n",
            "9851\n",
            "9901\n",
            "9951\n",
            "A random number from range 1 and 10000 is:4651\n"
          ],
          "name": "stdout"
        }
      ]
    },
    {
      "cell_type": "code",
      "metadata": {
        "id": "N-JtZ-GKzRe0",
        "colab_type": "code",
        "colab": {
          "base_uri": "https://localhost:8080/",
          "height": 204
        },
        "outputId": "7c99ce9e-a938-4320-8ca9-f76f1814805b"
      },
      "source": [
        "#python program using math module\n",
        "import math\n",
        "print(math.sin(60))\n",
        "print(math.cos(180))\n",
        "print(math.tan(90))\n",
        "print(math.sinh(0.8660254037844386))\n",
        "print(math.pow(5,8))\n",
        "print(math.sqrt(400))\n",
        "print(math.pow(5,2.71828))\n",
        "print(math.log2(1024))\n",
        "print(math.log10(1024))\n",
        "print(math.ceil(23.56))\n",
        "print(math.floor(23.56))"
      ],
      "execution_count": 12,
      "outputs": [
        {
          "output_type": "stream",
          "text": [
            "-0.3048106211022167\n",
            "-0.5984600690578581\n",
            "-1.995200412208242\n",
            "0.9784113245910249\n",
            "390625.0\n",
            "20.0\n",
            "79.432125413701\n",
            "10.0\n",
            "3.010299956639812\n",
            "24\n",
            "23\n"
          ],
          "name": "stdout"
        }
      ]
    },
    {
      "cell_type": "code",
      "metadata": {
        "id": "vM7dD6Om0CoU",
        "colab_type": "code",
        "colab": {}
      },
      "source": [
        ""
      ],
      "execution_count": null,
      "outputs": []
    }
  ]
}