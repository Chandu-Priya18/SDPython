{
  "nbformat": 4,
  "nbformat_minor": 0,
  "metadata": {
    "colab": {
      "name": "Assignment.2.1",
      "provenance": [],
      "collapsed_sections": []
    },
    "kernelspec": {
      "name": "python3",
      "display_name": "Python 3"
    }
  },
  "cells": [
    {
      "cell_type": "code",
      "metadata": {
        "id": "0Lh9olP5WrTy",
        "colab_type": "code",
        "colab": {
          "base_uri": "https://localhost:8080/",
          "height": 51
        },
        "outputId": "632e2be6-9945-4325-c66f-1c22c4fc95c2"
      },
      "source": [
        "#input age\n",
        "age=int(input(\"Enter age:\"))\n",
        "#condition to check voting eligibility\n",
        "if age>=18:\n",
        "    print(\"Eligible\")\n",
        "else:\n",
        "    print(\"Not Eligible\")           \n"
      ],
      "execution_count": null,
      "outputs": [
        {
          "output_type": "stream",
          "text": [
            "Enter age:18\n",
            "Eligible\n"
          ],
          "name": "stdout"
        }
      ]
    },
    {
      "cell_type": "code",
      "metadata": {
        "id": "F5fgDUcVMZMv",
        "colab_type": "code",
        "colab": {
          "base_uri": "https://localhost:8080/",
          "height": 51
        },
        "outputId": "0eb16834-3086-4d3d-8e10-9712976e33f4"
      },
      "source": [
        "#input number\n",
        "a=int(input(\"enter a number:\"))\n",
        "if(a%2==0):\n",
        "   print(\"Even number\")\n",
        "else:   \n",
        "   print(\"Odd number\")"
      ],
      "execution_count": null,
      "outputs": [
        {
          "output_type": "stream",
          "text": [
            "enter a number:2001\n",
            "Odd number\n"
          ],
          "name": "stdout"
        }
      ]
    },
    {
      "cell_type": "code",
      "metadata": {
        "id": "8KX6_s3tNlwC",
        "colab_type": "code",
        "colab": {
          "base_uri": "https://localhost:8080/",
          "height": 51
        },
        "outputId": "878b8436-3874-486c-a6dd-da3b6d51f95f"
      },
      "source": [
        "num=int(input(\"enter the number:\"))\n",
        "if num>1:\n",
        "  for i in range(2,num):\n",
        "    if(num%i)==0:\n",
        "      print(num,\"is not a prime number\")\n",
        "      break\n",
        "    else:\n",
        "      print(num,\"is a prime number\")\n",
        "else:\n",
        "     print(num,\"is not a prime number\")     "
      ],
      "execution_count": null,
      "outputs": [
        {
          "output_type": "stream",
          "text": [
            "enter the number:8\n",
            "8 is not a prime number\n"
          ],
          "name": "stdout"
        }
      ]
    },
    {
      "cell_type": "code",
      "metadata": {
        "id": "SJR7kxXERoTM",
        "colab_type": "code",
        "colab": {
          "base_uri": "https://localhost:8080/",
          "height": 51
        },
        "outputId": "3c9289bf-769d-4eb5-fa88-be90bb521fc5"
      },
      "source": [
        "num=float(input(\"Enter the number\"))\n",
        "if num>0:\n",
        "  print(num,\"is a positive number\")\n",
        "else:\n",
        "  print(num,\"is not a positive number\")  "
      ],
      "execution_count": 4,
      "outputs": [
        {
          "output_type": "stream",
          "text": [
            "Enter the number-10\n",
            "-10.0 is not a positive number\n"
          ],
          "name": "stdout"
        }
      ]
    },
    {
      "cell_type": "code",
      "metadata": {
        "id": "GNi4sIQqoDbH",
        "colab_type": "code",
        "colab": {
          "base_uri": "https://localhost:8080/",
          "height": 85
        },
        "outputId": "bac88209-dabb-473e-c698-c81e0960f37f"
      },
      "source": [
        "import math\n",
        "a = int(input(\"Please Enter a Value of a Quadratic Equation : \"))\n",
        "b = int(input(\"Please Enter b Value of a Quadratic Equation : \"))\n",
        "c = int(input(\"Please Enter c Value of a Quadratic Equation : \"))\n",
        "discriminant = (b * b) - (4 * a * c)\n",
        "if(discriminant > 0):\n",
        "    root1 = (-b + math.sqrt(discriminant) / (2 * a))\n",
        "    root2 = (-b - math.sqrt(discriminant) / (2 * a))\n",
        "    print(\"Two Distinct Real Roots Exists: root1 = %.2f and root2 = %.2f\" %(root1, root2))\n",
        "elif(discriminant == 0):\n",
        "    root1 = root2 = -b / (2 * a)\n",
        "    print(\"Two Equal and Real Roots Exists: root1 = %.2f and root2 = %.2f\" %(root1, root2))\n",
        "elif(discriminant < 0):\n",
        "    root1 = root2 = -b / (2 * a)\n",
        "    imaginary = math.sqrt(-discriminant) / (2 * a)\n",
        "    print(\"Two Distinct Complex Roots Exists: root1 = %.2f+%.2f and root2 = %.2f-%.2f\" %(root1, imaginary, root2, imaginary))\n"
      ],
      "execution_count": 7,
      "outputs": [
        {
          "output_type": "stream",
          "text": [
            "Please Enter a Value of a Quadratic Equation : 5\n",
            "Please Enter b Value of a Quadratic Equation : 20\n",
            "Please Enter c Value of a Quadratic Equation : 10\n",
            "Two Distinct Real Roots Exists: root1 = -18.59 and root2 = -21.41\n"
          ],
          "name": "stdout"
        }
      ]
    },
    {
      "cell_type": "code",
      "metadata": {
        "id": "Ytsk-Vhbr6q_",
        "colab_type": "code",
        "colab": {
          "base_uri": "https://localhost:8080/",
          "height": 51
        },
        "outputId": "268a6947-0dfa-4a05-97e9-e0ed6f879f1e"
      },
      "source": [
        "num = float(input(\"Enter a number: \"))\n",
        "if num > 0:\n",
        "   print(\"Positive number\")\n",
        "elif num == 0:\n",
        "   print(\"Zero\")\n",
        "else:\n",
        "   print(\"Negative number\")"
      ],
      "execution_count": 11,
      "outputs": [
        {
          "output_type": "stream",
          "text": [
            "Enter a number: -2001\n",
            "Negative number\n"
          ],
          "name": "stdout"
        }
      ]
    },
    {
      "cell_type": "code",
      "metadata": {
        "id": "9eSJOcILsqV4",
        "colab_type": "code",
        "colab": {
          "base_uri": "https://localhost:8080/",
          "height": 51
        },
        "outputId": "a572c117-1a92-4ad1-83b3-5db2e1d9df2e"
      },
      "source": [
        "# Python Program to check character is Vowel or Consonant\n",
        "ch = input(\"Please Enter Your Own Character : \")\n",
        "\n",
        "if(ch == 'a' or ch == 'e' or ch == 'i' or ch == 'o' or ch == 'u' or ch == 'A'\n",
        "       or ch == 'E' or ch == 'I' or ch == 'O' or ch == 'U'):\n",
        "    print(\"The Given Character \", ch, \"is a Vowel\")\n",
        "else:\n",
        "    print(\"The Given Character \", ch, \"is a Consonant\")"
      ],
      "execution_count": 15,
      "outputs": [
        {
          "output_type": "stream",
          "text": [
            "Please Enter Your Own Character : C\n",
            "The Given Character  C is a Consonant\n"
          ],
          "name": "stdout"
        }
      ]
    },
    {
      "cell_type": "code",
      "metadata": {
        "id": "Q8iejLBn0TlU",
        "colab_type": "code",
        "colab": {
          "base_uri": "https://localhost:8080/",
          "height": 51
        },
        "outputId": "768b7fc5-031b-4a0a-a839-8e1f1c475bdc"
      },
      "source": [
        "#python program to accept a number(1-5) and print the given number in words using nested-if\n",
        "num=int(input(\"enter a number between 1-5=\"))\n",
        "if(num<=5 and num>0):\n",
        "    if num==1:\n",
        "        print(\"one\")\n",
        "    elif num==2:\n",
        "        print(\"two\")\n",
        "    elif num==3:\n",
        "        print(\"three\")\n",
        "    elif num==4:\n",
        "        print(\"four\")\n",
        "    elif num==5:\n",
        "        print(\"five\")\n",
        "else:\n",
        "     print(\"entered number is not between 1-5\")"
      ],
      "execution_count": 17,
      "outputs": [
        {
          "output_type": "stream",
          "text": [
            "enter a number between 1-5=3\n",
            "three\n"
          ],
          "name": "stdout"
        }
      ]
    },
    {
      "cell_type": "code",
      "metadata": {
        "id": "nyM9OS5S0xLO",
        "colab_type": "code",
        "colab": {}
      },
      "source": [
        ""
      ],
      "execution_count": null,
      "outputs": []
    }
  ]
}