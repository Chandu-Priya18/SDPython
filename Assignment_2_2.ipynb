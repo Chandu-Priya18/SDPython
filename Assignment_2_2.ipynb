{
  "nbformat": 4,
  "nbformat_minor": 0,
  "metadata": {
    "colab": {
      "name": "Assignment.2.2",
      "provenance": [],
      "collapsed_sections": []
    },
    "kernelspec": {
      "name": "python3",
      "display_name": "Python 3"
    }
  },
  "cells": [
    {
      "cell_type": "code",
      "metadata": {
        "id": "EYCk5cH7wVs0",
        "colab_type": "code",
        "colab": {
          "base_uri": "https://localhost:8080/",
          "height": 34
        },
        "outputId": "ce1c3dd6-b930-4152-8976-1edff537563a"
      },
      "source": [
        "def max(a,b,c):\n",
        "\tif a>b and a>c:\n",
        "\t\tprint (\"maximum is :\",a)\n",
        "\telif b>a and b>c:\n",
        "\t\tprint (\"maximum is :\",b)\n",
        "\telse:\n",
        "\t\tprint (\"maximum is :\",c) \n",
        "\n",
        "numbers=max(4,8,2)"
      ],
      "execution_count": 4,
      "outputs": [
        {
          "output_type": "stream",
          "text": [
            "maximum is : 8\n"
          ],
          "name": "stdout"
        }
      ]
    },
    {
      "cell_type": "code",
      "metadata": {
        "id": "UM5Hr3yrwyM0",
        "colab_type": "code",
        "colab": {
          "base_uri": "https://localhost:8080/",
          "height": 85
        },
        "outputId": "f323ff18-a546-45a3-9df7-996f07c21801"
      },
      "source": [
        "# Python Program to Reverse String\n",
        "string = input(\"Please enter your own String : \")\n",
        "\n",
        "string2 = ''\n",
        "\n",
        "for i in string:\n",
        "    string2 = i + string2\n",
        "    \n",
        "print(\"\\nThe Original String = \", string)\n",
        "print(\"The Reversed String = \", string2)"
      ],
      "execution_count": 6,
      "outputs": [
        {
          "output_type": "stream",
          "text": [
            "Please enter your own String : taehyung\n",
            "\n",
            "The Original String =  taehyung\n",
            "The Reversed String =  gnuyheat\n"
          ],
          "name": "stdout"
        }
      ]
    },
    {
      "cell_type": "code",
      "metadata": {
        "id": "wmRx48PvyFzi",
        "colab_type": "code",
        "colab": {
          "base_uri": "https://localhost:8080/",
          "height": 34
        },
        "outputId": "ce3f8660-2786-4dc8-c2ff-0de8483268f6"
      },
      "source": [
        "# Python program to check if  \n",
        "# given number is prime or not \n",
        "  \n",
        "num = 11\n",
        "  \n",
        "# If given number is greater than 1 \n",
        "if num > 1: \n",
        "      \n",
        "   # Iterate from 2 to n / 2  \n",
        "   for i in range(2, num): \n",
        "         \n",
        "       # If num is divisible by any number between  \n",
        "       # 2 and n / 2, it is not prime  \n",
        "       if (num % i) == 0: \n",
        "           print(num, \"is not a prime number\") \n",
        "           break\n",
        "   else: \n",
        "       print(num, \"is a prime number\") \n",
        "  \n",
        "else: \n",
        "   print(num, \"is not a prime number\") "
      ],
      "execution_count": 8,
      "outputs": [
        {
          "output_type": "stream",
          "text": [
            "11 is a prime number\n"
          ],
          "name": "stdout"
        }
      ]
    },
    {
      "cell_type": "code",
      "metadata": {
        "id": "H-9mP4GazX5H",
        "colab_type": "code",
        "colab": {
          "base_uri": "https://localhost:8080/",
          "height": 34
        },
        "outputId": "35d32c41-1996-4d53-a1d2-b6504362c1f1"
      },
      "source": [
        "def sqsum(n) :\n",
        "   sm = 0\n",
        "   for i in range(1, n+1) :\n",
        "      sm = sm + pow(i,2)\n",
        "   return sm\n",
        "# main\n",
        "n = 5\n",
        "print(sqsum(n))"
      ],
      "execution_count": 9,
      "outputs": [
        {
          "output_type": "stream",
          "text": [
            "55\n"
          ],
          "name": "stdout"
        }
      ]
    },
    {
      "cell_type": "code",
      "metadata": {
        "id": "MoZIfnc_zaJx",
        "colab_type": "code",
        "colab": {}
      },
      "source": [
        ""
      ],
      "execution_count": null,
      "outputs": []
    }
  ]
}