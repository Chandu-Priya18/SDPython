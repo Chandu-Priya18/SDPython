{
  "nbformat": 4,
  "nbformat_minor": 0,
  "metadata": {
    "colab": {
      "name": "Assignment3.2",
      "provenance": [],
      "collapsed_sections": []
    },
    "kernelspec": {
      "name": "python3",
      "display_name": "Python 3"
    }
  },
  "cells": [
    {
      "cell_type": "code",
      "metadata": {
        "id": "LfoS6FSy3Jco",
        "colab_type": "code",
        "colab": {
          "base_uri": "https://localhost:8080/",
          "height": 34
        },
        "outputId": "106635dc-9faa-404f-fa5a-e894e6ca9e18"
      },
      "source": [
        "#python program to find GCD or HCF of given two numbers\n",
        "def compute_hcf(x,y):\n",
        "   if x>y:\n",
        "     smaller = y\n",
        "   else:\n",
        "     smaller = x\n",
        "   for i in range(1, smaller+1):\n",
        "       if((x % i ==0) and (y % i == 0)):\n",
        "          hcf = i\n",
        "   return hcf\n",
        "num1 = 54\n",
        "num2 = 24   \n",
        "\n",
        "print(\"The HCF is\", compute_hcf(num1,num2))\n",
        "                    "
      ],
      "execution_count": 4,
      "outputs": [
        {
          "output_type": "stream",
          "text": [
            "The HCF is 6\n"
          ],
          "name": "stdout"
        }
      ]
    },
    {
      "cell_type": "code",
      "metadata": {
        "id": "bG0TNYoN4Yr0",
        "colab_type": "code",
        "colab": {
          "base_uri": "https://localhost:8080/",
          "height": 68
        },
        "outputId": "680eab69-5365-49d0-9bd4-83cff6eb8085"
      },
      "source": [
        "#python program tothat accepts a word from the user and reverse it\n",
        "word = input(\"Input a word to reverse:\")\n",
        "for char in range(len(word) - 1, -1, -1):\n",
        "  print(word[char],end=\"\")\n",
        "print(\"\\n\")  "
      ],
      "execution_count": 7,
      "outputs": [
        {
          "output_type": "stream",
          "text": [
            "Input a word to reverse:Kyungsoo\n",
            "oosgnuyK\n",
            "\n"
          ],
          "name": "stdout"
        }
      ]
    },
    {
      "cell_type": "code",
      "metadata": {
        "id": "p_sG8mxx5Bbr",
        "colab_type": "code",
        "colab": {
          "base_uri": "https://localhost:8080/",
          "height": 51
        },
        "outputId": "0eaf09e4-f846-4ab6-c9d6-b5f30e03f653"
      },
      "source": [
        "#Python program to count the no. of even and odd numbers from a series of numbers \n",
        "numbers = (1,2,3,4,5,6,7,8,9)\n",
        "count_odd = 0\n",
        "count_even = 0\n",
        "for x in numbers:\n",
        "    if not x % 2:\n",
        "         count_even+=1\n",
        "    else:\n",
        "         count_odd+=1\n",
        "print(\"Number of even numbers:\",count_even)\n",
        "print(\"Number of odd numbers:\",count_odd)              "
      ],
      "execution_count": 8,
      "outputs": [
        {
          "output_type": "stream",
          "text": [
            "Number of even numbers: 4\n",
            "Number of odd numbers: 5\n"
          ],
          "name": "stdout"
        }
      ]
    },
    {
      "cell_type": "code",
      "metadata": {
        "id": "DV4NSbAd6Dw6",
        "colab_type": "code",
        "colab": {
          "base_uri": "https://localhost:8080/",
          "height": 51
        },
        "outputId": "8a3c30a2-5ae7-40b6-fb24-2915e8eabc87"
      },
      "source": [
        "#python program thst prints all the numbers from 0 to 6 except 3 and 6\n",
        "for x in range(6):\n",
        "    if (x==3 or x==6):\n",
        "       continue\n",
        "    print(x,end='')\n",
        "print(\"\\n\")       "
      ],
      "execution_count": 9,
      "outputs": [
        {
          "output_type": "stream",
          "text": [
            "01245\n",
            "\n"
          ],
          "name": "stdout"
        }
      ]
    },
    {
      "cell_type": "code",
      "metadata": {
        "id": "2UYQsa0K6fdb",
        "colab_type": "code",
        "colab": {}
      },
      "source": [
        ""
      ],
      "execution_count": null,
      "outputs": []
    }
  ]
}